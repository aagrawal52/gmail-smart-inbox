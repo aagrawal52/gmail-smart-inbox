{
 "cells": [
  {
   "cell_type": "code",
   "execution_count": 1,
   "id": "1d15ca6e",
   "metadata": {
    "ExecuteTime": {
     "end_time": "2023-06-04T10:10:02.860667Z",
     "start_time": "2023-06-04T10:10:02.854126Z"
    }
   },
   "outputs": [
    {
     "data": {
      "text/html": [
       "<style>.container { width:100% !important; }</style>"
      ],
      "text/plain": [
       "<IPython.core.display.HTML object>"
      ]
     },
     "metadata": {},
     "output_type": "display_data"
    }
   ],
   "source": [
    "from IPython.display import display, HTML\n",
    "display(HTML(\"<style>.container { width:100% !important; }</style>\"))"
   ]
  },
  {
   "cell_type": "code",
   "execution_count": 2,
   "id": "454fe2ef",
   "metadata": {
    "ExecuteTime": {
     "end_time": "2023-06-04T10:10:22.126903Z",
     "start_time": "2023-06-04T10:10:20.677864Z"
    }
   },
   "outputs": [],
   "source": [
    "import pandas as pd\n",
    "import numpy as np\n",
    "import base64\n",
    "import os\n",
    "import json\n",
    "import ast\n",
    "from bs4 import BeautifulSoup"
   ]
  },
  {
   "cell_type": "code",
   "execution_count": 3,
   "id": "6538bb55",
   "metadata": {
    "ExecuteTime": {
     "end_time": "2023-06-04T10:11:16.680028Z",
     "start_time": "2023-06-04T10:11:16.667862Z"
    }
   },
   "outputs": [],
   "source": [
    "import base64\n",
    "\n",
    "def base64url_decode(data):\n",
    "    data = data.encode('utf-8')\n",
    "    data += b'=' * (4 - (len(data) % 4))\n",
    "    return base64.urlsafe_b64decode(data)\n",
    "\n",
    "def is_html_text(text):\n",
    "    try:\n",
    "        soup = BeautifulSoup(text, 'html.parser')\n",
    "        return len(soup.find_all()) > 0\n",
    "    except:\n",
    "        return False\n",
    "\n",
    "def find_text_part(parts):\n",
    "    res_string = \"\"\n",
    "    for part in parts:\n",
    "        mimeType = part.get('mimeType')\n",
    "        if mimeType == 'text/plain':\n",
    "            data = part.get('body', {}).get('data')\n",
    "            if data:\n",
    "                text = base64url_decode(data).decode('utf-8')\n",
    "                if is_html_text(text):\n",
    "                    soup = BeautifulSoup(text, 'html.parser')\n",
    "                    res_string = res_string + \" \" + soup.get_text(separator=' ')\n",
    "                else:\n",
    "                    res_string = res_string + \" \" + text           \n",
    "        elif mimeType == 'text/html':\n",
    "            data = part.get('body', {}).get('data')\n",
    "            if data:\n",
    "                html = base64url_decode(data).decode('utf-8')\n",
    "                soup = BeautifulSoup(html, 'html.parser')\n",
    "                res_string = res_string + \" \" + soup.get_text(separator=' ')\n",
    "        elif mimeType == 'multipart/alternative':\n",
    "            res_string = res_string + \" \" + find_text_part(part.get('parts', []))\n",
    "        elif mimeType == 'multipart/related':\n",
    "            res_string = res_string + \" \" + find_text_part(part.get('parts', []))\n",
    "    return res_string\n",
    "\n",
    "# Function to parse email bodies\n",
    "def parse_email_body(payload):\n",
    "    if payload['mimeType'] == 'text/plain':\n",
    "        data = payload.get('body', {}).get('data')\n",
    "        if data:\n",
    "            return base64url_decode(data).decode('utf-8')\n",
    "    elif payload['mimeType'] == 'text/html':\n",
    "        data = payload.get('body', {}).get('data')\n",
    "        if data:\n",
    "            html = base64url_decode(data).decode('utf-8')\n",
    "            soup = BeautifulSoup(html, 'html.parser')\n",
    "            return soup.get_text(separator=' ')\n",
    "    elif payload['mimeType'].startswith('multipart/'):\n",
    "        parts = payload.get('parts', [])\n",
    "        text = find_text_part(parts)\n",
    "        if text:\n",
    "            return text\n",
    "    return \"\"\n",
    "\n",
    "def parse_text(x):\n",
    "    y = ''.join([i if ord(i) < 128 else ' ' for i in x])\n",
    "    y = ' '.join(y.strip().split())\n",
    "    return(y)\n",
    "    \n",
    "\n",
    "def get_from(x):\n",
    "    header_ = x.get(\"headers\")\n",
    "    return(dict([(elem[\"name\"], elem[\"value\"]) for elem in header_ if elem[\"name\"] in ['Subject', 'From', 'To']]))"
   ]
  },
  {
   "cell_type": "code",
   "execution_count": 6,
   "id": "90c56907",
   "metadata": {
    "ExecuteTime": {
     "end_time": "2023-06-04T10:17:53.575724Z",
     "start_time": "2023-06-04T10:17:52.532440Z"
    }
   },
   "outputs": [
    {
     "data": {
      "text/html": [
       "<div>\n",
       "<style scoped>\n",
       "    .dataframe tbody tr th:only-of-type {\n",
       "        vertical-align: middle;\n",
       "    }\n",
       "\n",
       "    .dataframe tbody tr th {\n",
       "        vertical-align: top;\n",
       "    }\n",
       "\n",
       "    .dataframe thead th {\n",
       "        text-align: right;\n",
       "    }\n",
       "</style>\n",
       "<table border=\"1\" class=\"dataframe\">\n",
       "  <thead>\n",
       "    <tr style=\"text-align: right;\">\n",
       "      <th></th>\n",
       "      <th>id</th>\n",
       "      <th>threadId</th>\n",
       "      <th>labelIds</th>\n",
       "      <th>snippet</th>\n",
       "      <th>payload</th>\n",
       "      <th>sizeEstimate</th>\n",
       "      <th>historyId</th>\n",
       "      <th>internalDate</th>\n",
       "    </tr>\n",
       "  </thead>\n",
       "  <tbody>\n",
       "    <tr>\n",
       "      <th>0</th>\n",
       "      <td>1886c44e3eacd1bd</td>\n",
       "      <td>1886c44e3eacd1bd</td>\n",
       "      <td>['Label_7781807634347615867', 'CATEGORY_UPDATE...</td>\n",
       "      <td>Senior Quantitative Researcher and other roles...</td>\n",
       "      <td>{'partId': '', 'mimeType': 'multipart/alternat...</td>\n",
       "      <td>119362</td>\n",
       "      <td>10716728</td>\n",
       "      <td>1685443629000</td>\n",
       "    </tr>\n",
       "    <tr>\n",
       "      <th>1</th>\n",
       "      <td>1886c0dde71b424d</td>\n",
       "      <td>1886b089720e7a16</td>\n",
       "      <td>['UNREAD', 'Label_3265720468738706690', 'CATEG...</td>\n",
       "      <td>Message for Aayush Agrawal Dear Investor, Foli...</td>\n",
       "      <td>{'partId': '', 'mimeType': 'multipart/mixed', ...</td>\n",
       "      <td>373513</td>\n",
       "      <td>10716675</td>\n",
       "      <td>1685439968000</td>\n",
       "    </tr>\n",
       "    <tr>\n",
       "      <th>2</th>\n",
       "      <td>1886c01327dbc5f7</td>\n",
       "      <td>1886a9354f28a315</td>\n",
       "      <td>['UNREAD', 'Label_5479026944618646578', 'CATEG...</td>\n",
       "      <td>Dear AAYUSH, Following is/are the list of tran...</td>\n",
       "      <td>{'partId': '', 'mimeType': 'text/html', 'filen...</td>\n",
       "      <td>7995</td>\n",
       "      <td>10716632</td>\n",
       "      <td>1685438845000</td>\n",
       "    </tr>\n",
       "    <tr>\n",
       "      <th>3</th>\n",
       "      <td>1886becb5c7e7f55</td>\n",
       "      <td>1886a9354f28a315</td>\n",
       "      <td>['UNREAD', 'Label_5479026944618646578', 'CATEG...</td>\n",
       "      <td>Dear AAYUSH, Following is/are the list of tran...</td>\n",
       "      <td>{'partId': '', 'mimeType': 'text/html', 'filen...</td>\n",
       "      <td>7088</td>\n",
       "      <td>10716587</td>\n",
       "      <td>1685437569000</td>\n",
       "    </tr>\n",
       "    <tr>\n",
       "      <th>4</th>\n",
       "      <td>1886bdce3bb4c278</td>\n",
       "      <td>1886a9354f28a315</td>\n",
       "      <td>['UNREAD', 'Label_5479026944618646578', 'CATEG...</td>\n",
       "      <td>Dear AAYUSH, Following is/are the list of tran...</td>\n",
       "      <td>{'partId': '', 'mimeType': 'text/html', 'filen...</td>\n",
       "      <td>7083</td>\n",
       "      <td>10716536</td>\n",
       "      <td>1685436722000</td>\n",
       "    </tr>\n",
       "  </tbody>\n",
       "</table>\n",
       "</div>"
      ],
      "text/plain": [
       "                 id          threadId  \\\n",
       "0  1886c44e3eacd1bd  1886c44e3eacd1bd   \n",
       "1  1886c0dde71b424d  1886b089720e7a16   \n",
       "2  1886c01327dbc5f7  1886a9354f28a315   \n",
       "3  1886becb5c7e7f55  1886a9354f28a315   \n",
       "4  1886bdce3bb4c278  1886a9354f28a315   \n",
       "\n",
       "                                            labelIds  \\\n",
       "0  ['Label_7781807634347615867', 'CATEGORY_UPDATE...   \n",
       "1  ['UNREAD', 'Label_3265720468738706690', 'CATEG...   \n",
       "2  ['UNREAD', 'Label_5479026944618646578', 'CATEG...   \n",
       "3  ['UNREAD', 'Label_5479026944618646578', 'CATEG...   \n",
       "4  ['UNREAD', 'Label_5479026944618646578', 'CATEG...   \n",
       "\n",
       "                                             snippet  \\\n",
       "0  Senior Quantitative Researcher and other roles...   \n",
       "1  Message for Aayush Agrawal Dear Investor, Foli...   \n",
       "2  Dear AAYUSH, Following is/are the list of tran...   \n",
       "3  Dear AAYUSH, Following is/are the list of tran...   \n",
       "4  Dear AAYUSH, Following is/are the list of tran...   \n",
       "\n",
       "                                             payload  sizeEstimate  historyId  \\\n",
       "0  {'partId': '', 'mimeType': 'multipart/alternat...        119362   10716728   \n",
       "1  {'partId': '', 'mimeType': 'multipart/mixed', ...        373513   10716675   \n",
       "2  {'partId': '', 'mimeType': 'text/html', 'filen...          7995   10716632   \n",
       "3  {'partId': '', 'mimeType': 'text/html', 'filen...          7088   10716587   \n",
       "4  {'partId': '', 'mimeType': 'text/html', 'filen...          7083   10716536   \n",
       "\n",
       "    internalDate  \n",
       "0  1685443629000  \n",
       "1  1685439968000  \n",
       "2  1685438845000  \n",
       "3  1685437569000  \n",
       "4  1685436722000  "
      ]
     },
     "execution_count": 6,
     "metadata": {},
     "output_type": "execute_result"
    }
   ],
   "source": [
    "df = pd.read_csv(\"emails_dir/email_30-05-2023-17-27-05_30-05-2023-17-49-21.csv\")\n",
    "df.head()"
   ]
  },
  {
   "cell_type": "code",
   "execution_count": 7,
   "id": "8022f801",
   "metadata": {
    "ExecuteTime": {
     "end_time": "2023-06-04T10:17:53.581139Z",
     "start_time": "2023-06-04T10:17:53.578098Z"
    }
   },
   "outputs": [],
   "source": [
    "import re\n",
    "def search_pattern(x, pattern = '(.+?)<'):\n",
    "    try:\n",
    "        found = re.search(pattern, x).group(1)\n",
    "    except AttributeError:\n",
    "        found = np.nan\n",
    "    return(found) "
   ]
  },
  {
   "cell_type": "code",
   "execution_count": 8,
   "id": "64505c3e",
   "metadata": {
    "ExecuteTime": {
     "end_time": "2023-06-04T10:18:27.116733Z",
     "start_time": "2023-06-04T10:17:58.667052Z"
    }
   },
   "outputs": [
    {
     "name": "stderr",
     "output_type": "stream",
     "text": [
      "/Users/aayushagrawal/anaconda3/lib/python3.7/site-packages/bs4/__init__.py:336: MarkupResemblesLocatorWarning: \".\" looks like a filename, not markup. You should probably open this file and pass the filehandle into Beautiful Soup.\n",
      "  MarkupResemblesLocatorWarning\n",
      "/Users/aayushagrawal/anaconda3/lib/python3.7/site-packages/bs4/__init__.py:424: MarkupResemblesLocatorWarning: \"http://stat.ethz.ch/education/semesters/ss2014/atsa/Scriptum_v140523.pdf\n",
      "\" looks like a URL. Beautiful Soup is not an HTTP client. You should probably use an HTTP client like requests to get the document behind the URL, and feed that document to Beautiful Soup.\n",
      "  MarkupResemblesLocatorWarning\n",
      "/Users/aayushagrawal/anaconda3/lib/python3.7/site-packages/bs4/__init__.py:424: MarkupResemblesLocatorWarning: \"https://goo.gl/photos/NLzwpxkDF8qRetcs6\n",
      "\" looks like a URL. Beautiful Soup is not an HTTP client. You should probably use an HTTP client like requests to get the document behind the URL, and feed that document to Beautiful Soup.\n",
      "  MarkupResemblesLocatorWarning\n"
     ]
    }
   ],
   "source": [
    "df[\"body\"] = df[\"payload\"].apply(lambda x: parse_text(parse_email_body(ast.literal_eval(x))))\n",
    "df[\"headerInfo\"] = df[\"payload\"].apply(lambda x:get_from(ast.literal_eval(x)))\n",
    "df = df.join(pd.json_normalize(df['headerInfo']))\n",
    "df[\"fromParsed\"] = df[\"From\"].apply(lambda x:search_pattern(str(x), \"<(.+?)>\"))\n",
    "df[\"fromParsed\"] = df[\"fromParsed\"].fillna(df[\"From\"])\n",
    "df.to_csv(\"emails_dir/emails_parsed.csv\")"
   ]
  },
  {
   "cell_type": "code",
   "execution_count": null,
   "id": "31599682",
   "metadata": {},
   "outputs": [],
   "source": []
  }
 ],
 "metadata": {
  "hide_input": false,
  "kernelspec": {
   "display_name": "Python 3",
   "language": "python",
   "name": "python3"
  },
  "language_info": {
   "codemirror_mode": {
    "name": "ipython",
    "version": 3
   },
   "file_extension": ".py",
   "mimetype": "text/x-python",
   "name": "python",
   "nbconvert_exporter": "python",
   "pygments_lexer": "ipython3",
   "version": "3.7.3"
  }
 },
 "nbformat": 4,
 "nbformat_minor": 5
}
